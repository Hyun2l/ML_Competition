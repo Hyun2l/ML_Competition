{
 "cells": [
  {
   "cell_type": "code",
   "id": "initial_id",
   "metadata": {
    "collapsed": true,
    "ExecuteTime": {
     "end_time": "2024-12-02T11:26:26.330420Z",
     "start_time": "2024-12-02T11:26:25.449168Z"
    }
   },
   "source": [
    "import numpy as np\n",
    "import pandas as pd\n",
    "\n",
    "df = pd.read_csv('https://bit.ly/perch_csv_data')\n",
    "X = df.to_numpy()\n",
    "print(df.head())\n"
   ],
   "outputs": [
    {
     "name": "stdout",
     "output_type": "stream",
     "text": [
      "   length   height   width\n",
      "0     8.4     2.11    1.41\n",
      "1    13.7     3.53    2.00\n",
      "2    15.0     3.82    2.43\n",
      "3    16.2     4.59    2.63\n",
      "4    17.4     4.59    2.94\n"
     ]
    }
   ],
   "execution_count": 30
  },
  {
   "metadata": {
    "ExecuteTime": {
     "end_time": "2024-12-02T11:26:26.337772Z",
     "start_time": "2024-12-02T11:26:26.333087Z"
    }
   },
   "cell_type": "code",
   "source": [
    "y = np.array([5.9, 32.0, 40.0, 51.5, 70.0, 100.0, 78.0, 80.0, 85.0, 85.0, 110.0,\n",
    "                         115.0, 125.0, 130.0, 120.0, 120.0, 130.0, 135.0, 110.0, 130.0,\n",
    "                         150.0, 145.0, 150.0, 170.0, 225.0, 145.0, 188.0, 180.0, 197.0,\n",
    "                         218.0, 300.0, 260.0, 265.0, 250.0, 250.0, 300.0, 320.0, 514.0,\n",
    "                         556.0, 840.0, 685.0, 700.0, 700.0, 690.0, 900.0, 650.0, 820.0,\n",
    "                         850.0, 900.0, 1015.0, 820.0, 1100.0, 1000.0, 1100.0, 1000.0,\n",
    "                         1000.0])\n"
   ],
   "id": "905bdf273c455e98",
   "outputs": [],
   "execution_count": 31
  },
  {
   "metadata": {
    "ExecuteTime": {
     "end_time": "2024-12-02T11:26:26.343365Z",
     "start_time": "2024-12-02T11:26:26.339669Z"
    }
   },
   "cell_type": "code",
   "source": [
    "from sklearn.model_selection import train_test_split\n",
    "\n",
    "X_train, X_test, y_train, y_test = train_test_split(X, y, random_state=42)"
   ],
   "id": "115fad5d1bb03c95",
   "outputs": [],
   "execution_count": 32
  },
  {
   "metadata": {
    "ExecuteTime": {
     "end_time": "2024-12-02T11:26:26.350246Z",
     "start_time": "2024-12-02T11:26:26.345406Z"
    }
   },
   "cell_type": "code",
   "source": [
    "from sklearn.preprocessing import PolynomialFeatures\n",
    "poly = PolynomialFeatures(degree=5,include_bias=False)\n",
    "poly.fit(X_train) # fit is required to transform\n",
    "X_poly = poly.transform(X_train)\n",
    "\n",
    "X_poly"
   ],
   "id": "384ecc7f4009c1bc",
   "outputs": [
    {
     "data": {
      "text/plain": [
       "array([[1.96000000e+01, 5.14000000e+00, 3.04000000e+00, ...,\n",
       "        7.42244501e+02, 4.38992857e+02, 2.59637799e+02],\n",
       "       [2.20000000e+01, 5.88000000e+00, 3.52000000e+00, ...,\n",
       "        1.50793507e+03, 9.02709432e+02, 5.40397483e+02],\n",
       "       [1.87000000e+01, 5.20000000e+00, 3.12000000e+00, ...,\n",
       "        8.21240709e+02, 4.92744425e+02, 2.95646655e+02],\n",
       "       ...,\n",
       "       [2.56000000e+01, 6.56000000e+00, 4.24000000e+00, ...,\n",
       "        3.28023719e+03, 2.12015331e+03, 1.37034299e+03],\n",
       "       [4.20000000e+01, 1.28000000e+01, 6.87000000e+00, ...,\n",
       "        5.31239245e+04, 2.85126063e+04, 1.53032504e+04],\n",
       "       [3.45000000e+01, 1.02600000e+01, 6.39000000e+00, ...,\n",
       "        2.74661189e+04, 1.71060916e+04, 1.06537939e+04]])"
      ]
     },
     "execution_count": 33,
     "metadata": {},
     "output_type": "execute_result"
    }
   ],
   "execution_count": 33
  },
  {
   "metadata": {
    "ExecuteTime": {
     "end_time": "2024-12-02T11:26:26.355216Z",
     "start_time": "2024-12-02T11:26:26.351302Z"
    }
   },
   "cell_type": "code",
   "source": "poly.get_feature_names_out() # Show how the new features are created",
   "id": "6e4f41f42ac65bc",
   "outputs": [
    {
     "data": {
      "text/plain": [
       "array(['x0', 'x1', 'x2', 'x0^2', 'x0 x1', 'x0 x2', 'x1^2', 'x1 x2',\n",
       "       'x2^2', 'x0^3', 'x0^2 x1', 'x0^2 x2', 'x0 x1^2', 'x0 x1 x2',\n",
       "       'x0 x2^2', 'x1^3', 'x1^2 x2', 'x1 x2^2', 'x2^3', 'x0^4', 'x0^3 x1',\n",
       "       'x0^3 x2', 'x0^2 x1^2', 'x0^2 x1 x2', 'x0^2 x2^2', 'x0 x1^3',\n",
       "       'x0 x1^2 x2', 'x0 x1 x2^2', 'x0 x2^3', 'x1^4', 'x1^3 x2',\n",
       "       'x1^2 x2^2', 'x1 x2^3', 'x2^4', 'x0^5', 'x0^4 x1', 'x0^4 x2',\n",
       "       'x0^3 x1^2', 'x0^3 x1 x2', 'x0^3 x2^2', 'x0^2 x1^3',\n",
       "       'x0^2 x1^2 x2', 'x0^2 x1 x2^2', 'x0^2 x2^3', 'x0 x1^4',\n",
       "       'x0 x1^3 x2', 'x0 x1^2 x2^2', 'x0 x1 x2^3', 'x0 x2^4', 'x1^5',\n",
       "       'x1^4 x2', 'x1^3 x2^2', 'x1^2 x2^3', 'x1 x2^4', 'x2^5'],\n",
       "      dtype=object)"
      ]
     },
     "execution_count": 34,
     "metadata": {},
     "output_type": "execute_result"
    }
   ],
   "execution_count": 34
  },
  {
   "metadata": {
    "ExecuteTime": {
     "end_time": "2024-12-02T11:26:26.361090Z",
     "start_time": "2024-12-02T11:26:26.356087Z"
    }
   },
   "cell_type": "code",
   "source": [
    "test_poly = poly.transform(X_test)\n",
    "\n",
    "from sklearn.linear_model import LinearRegression\n",
    "\n",
    "lr = LinearRegression()\n",
    "lr = lr.fit(X_poly,y_train)\n",
    "\n",
    "print(lr.score(X_poly,y_train)) # Score for Training set"
   ],
   "id": "148f501411d6aa2b",
   "outputs": [
    {
     "name": "stdout",
     "output_type": "stream",
     "text": [
      "0.999999999999769\n"
     ]
    }
   ],
   "execution_count": 35
  },
  {
   "metadata": {
    "ExecuteTime": {
     "end_time": "2024-12-02T11:26:26.363967Z",
     "start_time": "2024-12-02T11:26:26.361712Z"
    }
   },
   "cell_type": "code",
   "source": "print(lr.score(test_poly,y_test))",
   "id": "f3d9f8583ffc3231",
   "outputs": [
    {
     "name": "stdout",
     "output_type": "stream",
     "text": [
      "-144.40490595353674\n"
     ]
    }
   ],
   "execution_count": 36
  },
  {
   "metadata": {
    "ExecuteTime": {
     "end_time": "2024-12-02T11:26:26.367710Z",
     "start_time": "2024-12-02T11:26:26.364820Z"
    }
   },
   "cell_type": "code",
   "source": [
    "from sklearn.preprocessing import StandardScaler\n",
    "sc = StandardScaler()\n",
    "sc.fit(X_poly)\n",
    "\n",
    "scaled_X = sc.transform(X_poly)\n",
    "scaled_y = sc.transform(test_poly)"
   ],
   "id": "3f611d5c39255b51",
   "outputs": [],
   "execution_count": 37
  },
  {
   "metadata": {
    "ExecuteTime": {
     "end_time": "2024-12-02T11:26:26.371677Z",
     "start_time": "2024-12-02T11:26:26.368434Z"
    }
   },
   "cell_type": "code",
   "source": [
    "# Ridge Regression\n",
    "from sklearn.linear_model import Ridge\n",
    "\n",
    "ridge = Ridge()\n",
    "ridge.fit(scaled_X,y_train)\n",
    "\n",
    "print(ridge.score(scaled_X,y_train)) # For training set \n"
   ],
   "id": "fa4d4c410e759e1a",
   "outputs": [
    {
     "name": "stdout",
     "output_type": "stream",
     "text": [
      "0.9896101671037343\n"
     ]
    }
   ],
   "execution_count": 38
  },
  {
   "metadata": {
    "ExecuteTime": {
     "end_time": "2024-12-02T11:26:26.375395Z",
     "start_time": "2024-12-02T11:26:26.373542Z"
    }
   },
   "cell_type": "code",
   "source": [
    "import matplotlib.pyplot as plt\n",
    "print(ridge.score(scaled_y,y_test))"
   ],
   "id": "c859920dc3335a06",
   "outputs": [
    {
     "name": "stdout",
     "output_type": "stream",
     "text": [
      "0.9790693977615388\n"
     ]
    }
   ],
   "execution_count": 39
  },
  {
   "metadata": {
    "ExecuteTime": {
     "end_time": "2024-12-02T11:26:26.445779Z",
     "start_time": "2024-12-02T11:26:26.376286Z"
    }
   },
   "cell_type": "code",
   "source": [
    "train_score = []\n",
    "test_score = []\n",
    "\n",
    "alpha_list = [0.01, 0.01, 0.1,1,10, 100]\n",
    "for i in alpha_list:\n",
    "    ridge = Ridge(alpha=i)\n",
    "    ridge.fit(scaled_X,y_train)\n",
    "    train_score.append(ridge.score(scaled_X,y_train))\n",
    "    test_score.append(ridge.score(scaled_y,y_test))\n",
    "    \n",
    "    \n",
    "plt.plot(np.log10(alpha_list), train_score)\n",
    "plt.plot(np.log10(alpha_list), test_score)\n",
    "\n",
    "plt.xlabel(r'$\\alpha$')\n",
    "plt.ylabel('R^2')"
   ],
   "id": "772f4b3e735323ad",
   "outputs": [
    {
     "data": {
      "text/plain": [
       "Text(0, 0.5, 'R^2')"
      ]
     },
     "execution_count": 40,
     "metadata": {},
     "output_type": "execute_result"
    },
    {
     "data": {
      "text/plain": [
       "<Figure size 640x480 with 1 Axes>"
      ],
      "image/png": "[encoded data removed]"
     },
     "metadata": {},
     "output_type": "display_data"
    }
   ],
   "execution_count": 40
  },
  {
   "metadata": {
    "ExecuteTime": {
     "end_time": "2024-12-02T11:26:26.450586Z",
     "start_time": "2024-12-02T11:26:26.446680Z"
    }
   },
   "cell_type": "code",
   "source": [
    "ridge = Ridge(alpha=0.1)\n",
    "ridge.fit(scaled_X,y_train)\n",
    "\n",
    "print(ridge.score(scaled_X,y_train))\n",
    "print(ridge.score(scaled_y,y_test))"
   ],
   "id": "58fe7200be2cd620",
   "outputs": [
    {
     "name": "stdout",
     "output_type": "stream",
     "text": [
      "0.9903815817570366\n",
      "0.9827976465386955\n"
     ]
    }
   ],
   "execution_count": 41
  },
  {
   "metadata": {
    "ExecuteTime": {
     "end_time": "2024-12-02T11:26:26.456276Z",
     "start_time": "2024-12-02T11:26:26.451211Z"
    }
   },
   "cell_type": "code",
   "source": [
    "# Lasso\n",
    "from sklearn.linear_model import Lasso\n",
    "\n",
    "lasso = Lasso()\n",
    "\n",
    "lasso.fit(scaled_X,y_train)\n",
    "print(lasso.score(scaled_X,y_train))\n",
    "print(\"Lasso:\", lasso.score(scaled_y,y_test))\n"
   ],
   "id": "458617e007b1ab6c",
   "outputs": [
    {
     "name": "stdout",
     "output_type": "stream",
     "text": [
      "0.989789897208096\n",
      "Lasso: 0.9800593698421884\n"
     ]
    }
   ],
   "execution_count": 42
  },
  {
   "metadata": {
    "ExecuteTime": {
     "end_time": "2024-12-02T11:26:30.503255Z",
     "start_time": "2024-12-02T11:26:29.616300Z"
    }
   },
   "cell_type": "code",
   "source": [
    "# FIND Best parameter for Lasso\n",
    "train_score = []\n",
    "test_score = []\n",
    "\n",
    "alpha_list = [0.01, 0.01, 0.1,1,10, 100]\n",
    "\n",
    "for i in alpha_list:\n",
    "    lasso = Lasso(alpha=i,max_iter=1000000)\n",
    "    lasso.fit(scaled_X,y_train)\n",
    "    \n",
    "    train_score.append(lasso.score(scaled_X,y_train))\n",
    "    test_score.append(lasso.score(scaled_y,y_test))\n"
   ],
   "id": "8c53be2bcac0bceb",
   "outputs": [],
   "execution_count": 44
  },
  {
   "metadata": {
    "ExecuteTime": {
     "end_time": "2024-12-02T11:27:16.960657Z",
     "start_time": "2024-12-02T11:27:16.898494Z"
    }
   },
   "cell_type": "code",
   "source": [
    "plt.plot(np.log10(alpha_list), train_score)\n",
    "plt.plot(np.log10(alpha_list), test_score)\n"
   ],
   "id": "4b8c7ac0260dcfc1",
   "outputs": [
    {
     "data": {
      "text/plain": [
       "[<matplotlib.lines.Line2D at 0x145b1a290>]"
      ]
     },
     "execution_count": 45,
     "metadata": {},
     "output_type": "execute_result"
    },
    {
     "data": {
      "text/plain": [
       "<Figure size 640x480 with 1 Axes>"
      ],
      "image/png": "[encoded data removed]"
     },
     "metadata": {},
     "output_type": "display_data"
    }
   ],
   "execution_count": 45
  },
  {
   "metadata": {
    "ExecuteTime": {
     "end_time": "2024-12-02T11:29:00.809033Z",
     "start_time": "2024-12-02T11:29:00.803686Z"
    }
   },
   "cell_type": "code",
   "source": [
    "lasso = Lasso(alpha=1)\n",
    "lasso.fit(scaled_X,y_train)\n",
    "print(lasso.score(scaled_X,y_train))\n",
    "print(lasso.score(scaled_y,y_test))\n",
    "\n",
    "print(np.sum(lasso.coef_ == 0))"
   ],
   "id": "f397e26e55954010",
   "outputs": [
    {
     "name": "stdout",
     "output_type": "stream",
     "text": [
      "0.989789897208096\n",
      "0.9800593698421884\n",
      "42\n"
     ]
    }
   ],
   "execution_count": 48
  },
  {
   "metadata": {},
   "cell_type": "code",
   "outputs": [],
   "execution_count": null,
   "source": "",
   "id": "fa3a6aac17b9dedf"
  }
 ],
 "metadata": {
  "kernelspec": {
   "display_name": "Python 3",
   "language": "python",
   "name": "python3"
  },
  "language_info": {
   "codemirror_mode": {
    "name": "ipython",
    "version": 2
   },
   "file_extension": ".py",
   "mimetype": "text/x-python",
   "name": "python",
   "nbconvert_exporter": "python",
   "pygments_lexer": "ipython2",
   "version": "2.7.6"
  }
 },
 "nbformat": 4,
 "nbformat_minor": 5
}
