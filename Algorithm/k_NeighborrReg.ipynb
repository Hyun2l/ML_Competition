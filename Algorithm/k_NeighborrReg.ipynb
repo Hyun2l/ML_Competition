{
 "cells": [
  {
   "cell_type": "code",
   "id": "initial_id",
   "metadata": {
    "collapsed": true,
    "ExecuteTime": {
     "end_time": "2024-11-28T07:15:08.106756Z",
     "start_time": "2024-11-28T07:15:08.100426Z"
    }
   },
   "source": [
    "import numpy as np\n",
    "perch_length = np.array([8.4, 13.7, 15.0, 16.2, 17.4, 18.0, 18.7, 19.0, 19.6, 20.0, 21.0,\n",
    "                         21.0, 21.0, 21.3, 22.0, 22.0, 22.0, 22.0, 22.0, 22.5, 22.5, 22.7,\n",
    "                         23.0, 23.5, 24.0, 24.0, 24.6, 25.0, 25.6, 26.5, 27.3, 27.5, 27.5,\n",
    "                         27.5, 28.0, 28.7, 30.0, 32.8, 34.5, 35.0, 36.5, 36.0, 37.0, 37.0,\n",
    "                         39.0, 39.0, 39.0, 40.0, 40.0, 40.0, 40.0, 42.0, 43.0, 43.0, 43.5,\n",
    "                         44.0])\n",
    "perch_weight = np.array([5.9, 32.0, 40.0, 51.5, 70.0, 100.0, 78.0, 80.0, 85.0, 85.0, 110.0,\n",
    "                         115.0, 125.0, 130.0, 120.0, 120.0, 130.0, 135.0, 110.0, 130.0,\n",
    "                         150.0, 145.0, 150.0, 170.0, 225.0, 145.0, 188.0, 180.0, 197.0,\n",
    "                         218.0, 300.0, 260.0, 265.0, 250.0, 250.0, 300.0, 320.0, 514.0,\n",
    "                         556.0, 840.0, 685.0, 700.0, 700.0, 690.0, 900.0, 650.0, 820.0,\n",
    "                         850.0, 900.0, 1015.0, 820.0, 1100.0, 1000.0, 1100.0, 1000.0,\n",
    "                         1000.0])"
   ],
   "outputs": [],
   "execution_count": 38
  },
  {
   "metadata": {
    "ExecuteTime": {
     "end_time": "2024-11-28T07:15:08.181947Z",
     "start_time": "2024-11-28T07:15:08.109072Z"
    }
   },
   "cell_type": "code",
   "source": [
    "import matplotlib.pyplot as plt\n",
    "from sklearn.model_selection import train_test_split\n",
    "\n",
    "plt.scatter(perch_length, perch_weight)\n",
    "plt.xlabel('Perch length')\n",
    "plt.ylabel('Perch weight')\n"
   ],
   "id": "52382e01799310e6",
   "outputs": [
    {
     "data": {
      "text/plain": [
       "Text(0, 0.5, 'Perch weight')"
      ]
     },
     "execution_count": 39,
     "metadata": {},
     "output_type": "execute_result"
    },
    {
     "data": {
      "text/plain": [
       "<Figure size 640x480 with 1 Axes>"
      ],
      "image/png": "[encoded data removed]"
     },
     "metadata": {},
     "output_type": "display_data"
    }
   ],
   "execution_count": 39
  },
  {
   "metadata": {
    "ExecuteTime": {
     "end_time": "2024-11-28T07:15:08.186441Z",
     "start_time": "2024-11-28T07:15:08.182893Z"
    }
   },
   "cell_type": "code",
   "source": [
    "X_train,X_test,y_train,y_test = train_test_split(perch_length, perch_weight, random_state=42)\n",
    "\n",
    "X_train = X_train.reshape(-1,1)\n",
    "X_test = X_test.reshape(-1,1)\n",
    "y_train = y_train.reshape(-1,1)\n",
    "y_test = y_test.reshape(-1,1)\n",
    "\n",
    "X_train"
   ],
   "id": "add0021529cdd060",
   "outputs": [
    {
     "data": {
      "text/plain": [
       "array([[19.6],\n",
       "       [22. ],\n",
       "       [18.7],\n",
       "       [17.4],\n",
       "       [36. ],\n",
       "       [25. ],\n",
       "       [40. ],\n",
       "       [39. ],\n",
       "       [43. ],\n",
       "       [22. ],\n",
       "       [20. ],\n",
       "       [22. ],\n",
       "       [24. ],\n",
       "       [27.5],\n",
       "       [43. ],\n",
       "       [40. ],\n",
       "       [24. ],\n",
       "       [21. ],\n",
       "       [27.5],\n",
       "       [40. ],\n",
       "       [32.8],\n",
       "       [26.5],\n",
       "       [36.5],\n",
       "       [13.7],\n",
       "       [22.7],\n",
       "       [15. ],\n",
       "       [37. ],\n",
       "       [35. ],\n",
       "       [28.7],\n",
       "       [23.5],\n",
       "       [39. ],\n",
       "       [21. ],\n",
       "       [23. ],\n",
       "       [22. ],\n",
       "       [44. ],\n",
       "       [22.5],\n",
       "       [19. ],\n",
       "       [37. ],\n",
       "       [22. ],\n",
       "       [25.6],\n",
       "       [42. ],\n",
       "       [34.5]])"
      ]
     },
     "execution_count": 40,
     "metadata": {},
     "output_type": "execute_result"
    }
   ],
   "execution_count": 40
  },
  {
   "metadata": {
    "ExecuteTime": {
     "end_time": "2024-11-28T07:15:08.191006Z",
     "start_time": "2024-11-28T07:15:08.188060Z"
    }
   },
   "cell_type": "code",
   "source": [
    "from sklearn.neighbors import KNeighborsRegressor\n",
    "\n",
    "knr = KNeighborsRegressor()\n",
    "\n",
    "knr.fit(X_train, y_train)\n",
    "\n",
    "print(knr.score(X_test, y_test))"
   ],
   "id": "c975d4602148505a",
   "outputs": [
    {
     "name": "stdout",
     "output_type": "stream",
     "text": [
      "0.992809406101064\n"
     ]
    }
   ],
   "execution_count": 41
  },
  {
   "metadata": {
    "ExecuteTime": {
     "end_time": "2024-11-28T07:16:21.159380Z",
     "start_time": "2024-11-28T07:16:21.156037Z"
    }
   },
   "cell_type": "code",
   "source": [
    "from sklearn.metrics import mean_absolute_error\n",
    "\n",
    "test_pred = knr.predict(X_test)\n",
    "\n",
    "mae = mean_absolute_error(y_test, test_pred)\n",
    "print(mae)"
   ],
   "id": "e5dd2b2925cdbe50",
   "outputs": [
    {
     "name": "stdout",
     "output_type": "stream",
     "text": [
      "19.157142857142862\n"
     ]
    }
   ],
   "execution_count": 45
  },
  {
   "metadata": {
    "ExecuteTime": {
     "end_time": "2024-11-28T07:15:08.196579Z",
     "start_time": "2024-11-28T07:15:08.195273Z"
    }
   },
   "cell_type": "code",
   "source": "",
   "id": "43d1c6d15a04f9f4",
   "outputs": [],
   "execution_count": 42
  }
 ],
 "metadata": {
  "kernelspec": {
   "display_name": "Python 3",
   "language": "python",
   "name": "python3"
  },
  "language_info": {
   "codemirror_mode": {
    "name": "ipython",
    "version": 2
   },
   "file_extension": ".py",
   "mimetype": "text/x-python",
   "name": "python",
   "nbconvert_exporter": "python",
   "pygments_lexer": "ipython2",
   "version": "2.7.6"
  }
 },
 "nbformat": 4,
 "nbformat_minor": 5
}
